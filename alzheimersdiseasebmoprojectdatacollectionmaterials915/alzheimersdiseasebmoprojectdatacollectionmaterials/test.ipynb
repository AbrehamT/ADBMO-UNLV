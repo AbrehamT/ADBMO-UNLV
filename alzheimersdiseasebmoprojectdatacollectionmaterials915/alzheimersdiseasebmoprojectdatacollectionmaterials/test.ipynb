{
 "cells": [
  {
   "cell_type": "code",
   "execution_count": 27,
   "metadata": {},
   "outputs": [],
   "source": [
    "import requests\n",
    "\n",
    "path = \"http://127.0.0.1:11434/api/generate\"\n",
    "\n",
    "params = {\n",
    "    \"model\": \"llama3.2:1b\",\n",
    "    \"prompt\": \"What's the definition of a random variable?\",\n",
    "    # \"stream\": \"false\",\n",
    "    # \"format\": \"json\"\n",
    "}\n",
    "\n",
    "res = requests.post(path, json=params)"
   ]
  },
  {
   "cell_type": "code",
   "execution_count": 25,
   "metadata": {},
   "outputs": [
    {
     "name": "stdout",
     "output_type": "stream",
     "text": [
      "Hello World\n"
     ]
    },
    {
     "data": {
      "text/plain": [
       "<Response [400]>"
      ]
     },
     "execution_count": 25,
     "metadata": {},
     "output_type": "execute_result"
    }
   ],
   "source": [
    "print(\"Hello World\")\n",
    "res"
   ]
  },
  {
   "cell_type": "code",
   "execution_count": 28,
   "metadata": {},
   "outputs": [
    {
     "data": {
      "text/plain": [
       "b'{\"model\":\"llama3.2:1b\",\"created_at\":\"2024-11-14T06:01:59.801275026Z\",\"response\":\"A\",\"done\":false}\\n{\"model\":\"llama3.2:1b\",\"created_at\":\"2024-11-14T06:01:59.801280371Z\",\"response\":\" random\",\"done\":false}\\n{\"model\":\"llama3.2:1b\",\"created_at\":\"2024-11-14T06:01:59.801381915Z\",\"response\":\" variable\",\"done\":false}\\n{\"model\":\"llama3.2:1b\",\"created_at\":\"2024-11-14T06:01:59.801385792Z\",\"response\":\" is\",\"done\":false}\\n{\"model\":\"llama3.2:1b\",\"created_at\":\"2024-11-14T06:01:59.801427434Z\",\"response\":\" a\",\"done\":false}\\n{\"model\":\"llama3.2:1b\",\"created_at\":\"2024-11-14T06:01:59.801429912Z\",\"response\":\" variable\",\"done\":false}\\n{\"model\":\"llama3.2:1b\",\"created_at\":\"2024-11-14T06:01:59.804445671Z\",\"response\":\" that\",\"done\":false}\\n{\"model\":\"llama3.2:1b\",\"created_at\":\"2024-11-14T06:01:59.809830246Z\",\"response\":\" can\",\"done\":false}\\n{\"model\":\"llama3.2:1b\",\"created_at\":\"2024-11-14T06:01:59.815195505Z\",\"response\":\" take\",\"done\":false}\\n{\"model\":\"llama3.2:1b\",\"created_at\":\"2024-11-14T06:01:59.820628633Z\",\"response\":\" on\",\"done\":false}\\n{\"model\":\"llama3.2:1b\",\"created_at\":\"2024-11-14T06:01:59.826649833Z\",\"response\":\" different\",\"done\":false}\\n{\"model\":\"llama3.2:1b\",\"created_at\":\"2024-11-14T06:01:59.832131138Z\",\"response\":\" values\",\"done\":false}\\n{\"model\":\"llama3.2:1b\",\"created_at\":\"2024-11-14T06:01:59.837476639Z\",\"response\":\" or\",\"done\":false}\\n{\"model\":\"llama3.2:1b\",\"created_at\":\"2024-11-14T06:01:59.842814537Z\",\"response\":\" outcomes\",\"done\":false}\\n{\"model\":\"llama3.2:1b\",\"created_at\":\"2024-11-14T06:01:59.848071873Z\",\"response\":\" based\",\"done\":false}\\n{\"model\":\"llama3.2:1b\",\"created_at\":\"2024-11-14T06:01:59.853283913Z\",\"response\":\" on\",\"done\":false}\\n{\"model\":\"llama3.2:1b\",\"created_at\":\"2024-11-14T06:01:59.859243007Z\",\"response\":\" certain\",\"done\":false}\\n{\"model\":\"llama3.2:1b\",\"created_at\":\"2024-11-14T06:01:59.864648894Z\",\"response\":\" conditions\",\"done\":false}\\n{\"model\":\"llama3.2:1b\",\"created_at\":\"2024-11-14T06:01:59.870141896Z\",\"response\":\" or\",\"done\":false}\\n{\"model\":\"llama3.2:1b\",\"created_at\":\"2024-11-14T06:01:59.87543374Z\",\"response\":\" events\",\"done\":false}\\n{\"model\":\"llama3.2:1b\",\"created_at\":\"2024-11-14T06:01:59.880704195Z\",\"response\":\".\",\"done\":false}\\n{\"model\":\"llama3.2:1b\",\"created_at\":\"2024-11-14T06:01:59.885932457Z\",\"response\":\" It\",\"done\":false}\\n{\"model\":\"llama3.2:1b\",\"created_at\":\"2024-11-14T06:01:59.891840503Z\",\"response\":\" is\",\"done\":false}\\n{\"model\":\"llama3.2:1b\",\"created_at\":\"2024-11-14T06:01:59.897283738Z\",\"response\":\" a\",\"done\":false}\\n{\"model\":\"llama3.2:1b\",\"created_at\":\"2024-11-14T06:01:59.902617694Z\",\"response\":\" mathematical\",\"done\":false}\\n{\"model\":\"llama3.2:1b\",\"created_at\":\"2024-11-14T06:01:59.90801774Z\",\"response\":\" concept\",\"done\":false}\\n{\"model\":\"llama3.2:1b\",\"created_at\":\"2024-11-14T06:01:59.913301528Z\",\"response\":\" used\",\"done\":false}\\n{\"model\":\"llama3.2:1b\",\"created_at\":\"2024-11-14T06:01:59.918651532Z\",\"response\":\" in\",\"done\":false}\\n{\"model\":\"llama3.2:1b\",\"created_at\":\"2024-11-14T06:01:59.924751931Z\",\"response\":\" probability\",\"done\":false}\\n{\"model\":\"llama3.2:1b\",\"created_at\":\"2024-11-14T06:01:59.930339379Z\",\"response\":\" theory\",\"done\":false}\\n{\"model\":\"llama3.2:1b\",\"created_at\":\"2024-11-14T06:01:59.935913094Z\",\"response\":\" and\",\"done\":false}\\n{\"model\":\"llama3.2:1b\",\"created_at\":\"2024-11-14T06:01:59.941364138Z\",\"response\":\" statistics\",\"done\":false}\\n{\"model\":\"llama3.2:1b\",\"created_at\":\"2024-11-14T06:01:59.946722868Z\",\"response\":\" to\",\"done\":false}\\n{\"model\":\"llama3.2:1b\",\"created_at\":\"2024-11-14T06:01:59.952049777Z\",\"response\":\" describe\",\"done\":false}\\n{\"model\":\"llama3.2:1b\",\"created_at\":\"2024-11-14T06:01:59.957991421Z\",\"response\":\" a\",\"done\":false}\\n{\"model\":\"llama3.2:1b\",\"created_at\":\"2024-11-14T06:01:59.963581204Z\",\"response\":\" quantity\",\"done\":false}\\n{\"model\":\"llama3.2:1b\",\"created_at\":\"2024-11-14T06:01:59.969228766Z\",\"response\":\" that\",\"done\":false}\\n{\"model\":\"llama3.2:1b\",\"created_at\":\"2024-11-14T06:01:59.974750123Z\",\"response\":\" has\",\"done\":false}\\n{\"model\":\"llama3.2:1b\",\"created_at\":\"2024-11-14T06:01:59.980216124Z\",\"response\":\" a\",\"done\":false}\\n{\"model\":\"llama3.2:1b\",\"created_at\":\"2024-11-14T06:01:59.985622758Z\",\"response\":\" chance\",\"done\":false}\\n{\"model\":\"llama3.2:1b\",\"created_at\":\"2024-11-14T06:01:59.991833174Z\",\"response\":\" of\",\"done\":false}\\n{\"model\":\"llama3.2:1b\",\"created_at\":\"2024-11-14T06:01:59.997465369Z\",\"response\":\" existing\",\"done\":false}\\n{\"model\":\"llama3.2:1b\",\"created_at\":\"2024-11-14T06:02:00.002914864Z\",\"response\":\" in\",\"done\":false}\\n{\"model\":\"llama3.2:1b\",\"created_at\":\"2024-11-14T06:02:00.008284034Z\",\"response\":\" more\",\"done\":false}\\n{\"model\":\"llama3.2:1b\",\"created_at\":\"2024-11-14T06:02:00.013621617Z\",\"response\":\" than\",\"done\":false}\\n{\"model\":\"llama3.2:1b\",\"created_at\":\"2024-11-14T06:02:00.018954029Z\",\"response\":\" one\",\"done\":false}\\n{\"model\":\"llama3.2:1b\",\"created_at\":\"2024-11-14T06:02:00.025016192Z\",\"response\":\" state\",\"done\":false}\\n{\"model\":\"llama3.2:1b\",\"created_at\":\"2024-11-14T06:02:00.030700571Z\",\"response\":\",\",\"done\":false}\\n{\"model\":\"llama3.2:1b\",\"created_at\":\"2024-11-14T06:02:00.036235331Z\",\"response\":\" and\",\"done\":false}\\n{\"model\":\"llama3.2:1b\",\"created_at\":\"2024-11-14T06:02:00.041713599Z\",\"response\":\" its\",\"done\":false}\\n{\"model\":\"llama3.2:1b\",\"created_at\":\"2024-11-14T06:02:00.047113686Z\",\"response\":\" outcome\",\"done\":false}\\n{\"model\":\"llama3.2:1b\",\"created_at\":\"2024-11-14T06:02:00.052447221Z\",\"response\":\" depends\",\"done\":false}\\n{\"model\":\"llama3.2:1b\",\"created_at\":\"2024-11-14T06:02:00.0583892Z\",\"response\":\" on\",\"done\":false}\\n{\"model\":\"llama3.2:1b\",\"created_at\":\"2024-11-14T06:02:00.063999116Z\",\"response\":\" the\",\"done\":false}\\n{\"model\":\"llama3.2:1b\",\"created_at\":\"2024-11-14T06:02:00.069539453Z\",\"response\":\" occurrence\",\"done\":false}\\n{\"model\":\"llama3.2:1b\",\"created_at\":\"2024-11-14T06:02:00.074998976Z\",\"response\":\" of\",\"done\":false}\\n{\"model\":\"llama3.2:1b\",\"created_at\":\"2024-11-14T06:02:00.080400954Z\",\"response\":\" an\",\"done\":false}\\n{\"model\":\"llama3.2:1b\",\"created_at\":\"2024-11-14T06:02:00.085734241Z\",\"response\":\" event\",\"done\":false}\\n{\"model\":\"llama3.2:1b\",\"created_at\":\"2024-11-14T06:02:00.091644152Z\",\"response\":\".\\\\n\\\\n\",\"done\":false}\\n{\"model\":\"llama3.2:1b\",\"created_at\":\"2024-11-14T06:02:00.097400313Z\",\"response\":\"In\",\"done\":false}\\n{\"model\":\"llama3.2:1b\",\"created_at\":\"2024-11-14T06:02:00.102925Z\",\"response\":\" other\",\"done\":false}\\n{\"model\":\"llama3.2:1b\",\"created_at\":\"2024-11-14T06:02:00.10843439Z\",\"response\":\" words\",\"done\":false}\\n{\"model\":\"llama3.2:1b\",\"created_at\":\"2024-11-14T06:02:00.113860259Z\",\"response\":\",\",\"done\":false}\\n{\"model\":\"llama3.2:1b\",\"created_at\":\"2024-11-14T06:02:00.11929556Z\",\"response\":\" a\",\"done\":false}\\n{\"model\":\"llama3.2:1b\",\"created_at\":\"2024-11-14T06:02:00.125432345Z\",\"response\":\" random\",\"done\":false}\\n{\"model\":\"llama3.2:1b\",\"created_at\":\"2024-11-14T06:02:00.130957523Z\",\"response\":\" variable\",\"done\":false}\\n{\"model\":\"llama3.2:1b\",\"created_at\":\"2024-11-14T06:02:00.136379249Z\",\"response\":\" is\",\"done\":false}\\n{\"model\":\"llama3.2:1b\",\"created_at\":\"2024-11-14T06:02:00.141781794Z\",\"response\":\" a\",\"done\":false}\\n{\"model\":\"llama3.2:1b\",\"created_at\":\"2024-11-14T06:02:00.147170904Z\",\"response\":\" variable\",\"done\":false}\\n{\"model\":\"llama3.2:1b\",\"created_at\":\"2024-11-14T06:02:00.15252751Z\",\"response\":\" whose\",\"done\":false}\\n{\"model\":\"llama3.2:1b\",\"created_at\":\"2024-11-14T06:02:00.158644376Z\",\"response\":\" possible\",\"done\":false}\\n{\"model\":\"llama3.2:1b\",\"created_at\":\"2024-11-14T06:02:00.164168515Z\",\"response\":\" output\",\"done\":false}\\n{\"model\":\"llama3.2:1b\",\"created_at\":\"2024-11-14T06:02:00.169602636Z\",\"response\":\" values\",\"done\":false}\\n{\"model\":\"llama3.2:1b\",\"created_at\":\"2024-11-14T06:02:00.175074239Z\",\"response\":\" are\",\"done\":false}\\n{\"model\":\"llama3.2:1b\",\"created_at\":\"2024-11-14T06:02:00.180657976Z\",\"response\":\" determined\",\"done\":false}\\n{\"model\":\"llama3.2:1b\",\"created_at\":\"2024-11-14T06:02:00.186070306Z\",\"response\":\" by\",\"done\":false}\\n{\"model\":\"llama3.2:1b\",\"created_at\":\"2024-11-14T06:02:00.192103034Z\",\"response\":\" chance\",\"done\":false}\\n{\"model\":\"llama3.2:1b\",\"created_at\":\"2024-11-14T06:02:00.197541414Z\",\"response\":\" events\",\"done\":false}\\n{\"model\":\"llama3.2:1b\",\"created_at\":\"2024-11-14T06:02:00.202955492Z\",\"response\":\" or\",\"done\":false}\\n{\"model\":\"llama3.2:1b\",\"created_at\":\"2024-11-14T06:02:00.208331691Z\",\"response\":\" outcomes\",\"done\":false}\\n{\"model\":\"llama3.2:1b\",\"created_at\":\"2024-11-14T06:02:00.213646421Z\",\"response\":\",\",\"done\":false}\\n{\"model\":\"llama3.2:1b\",\"created_at\":\"2024-11-14T06:02:00.219011228Z\",\"response\":\" and\",\"done\":false}\\n{\"model\":\"llama3.2:1b\",\"created_at\":\"2024-11-14T06:02:00.225167777Z\",\"response\":\" it\",\"done\":false}\\n{\"model\":\"llama3.2:1b\",\"created_at\":\"2024-11-14T06:02:00.230748075Z\",\"response\":\" cannot\",\"done\":false}\\n{\"model\":\"llama3.2:1b\",\"created_at\":\"2024-11-14T06:02:00.236100053Z\",\"response\":\" be\",\"done\":false}\\n{\"model\":\"llama3.2:1b\",\"created_at\":\"2024-11-14T06:02:00.241520456Z\",\"response\":\" predicted\",\"done\":false}\\n{\"model\":\"llama3.2:1b\",\"created_at\":\"2024-11-14T06:02:00.246870915Z\",\"response\":\" with\",\"done\":false}\\n{\"model\":\"llama3.2:1b\",\"created_at\":\"2024-11-14T06:02:00.252222481Z\",\"response\":\" certainty\",\"done\":false}\\n{\"model\":\"llama3.2:1b\",\"created_at\":\"2024-11-14T06:02:00.258250365Z\",\"response\":\".\",\"done\":false}\\n{\"model\":\"llama3.2:1b\",\"created_at\":\"2024-11-14T06:02:00.263625629Z\",\"response\":\" Random\",\"done\":false}\\n{\"model\":\"llama3.2:1b\",\"created_at\":\"2024-11-14T06:02:00.269034411Z\",\"response\":\" variables\",\"done\":false}\\n{\"model\":\"llama3.2:1b\",\"created_at\":\"2024-11-14T06:02:00.274510908Z\",\"response\":\" often\",\"done\":false}\\n{\"model\":\"llama3.2:1b\",\"created_at\":\"2024-11-14T06:02:00.279876199Z\",\"response\":\" involve\",\"done\":false}\\n{\"model\":\"llama3.2:1b\",\"created_at\":\"2024-11-14T06:02:00.285242703Z\",\"response\":\" quantities\",\"done\":false}\\n{\"model\":\"llama3.2:1b\",\"created_at\":\"2024-11-14T06:02:00.291479318Z\",\"response\":\" like\",\"done\":false}\\n{\"model\":\"llama3.2:1b\",\"created_at\":\"2024-11-14T06:02:00.296943954Z\",\"response\":\" heights\",\"done\":false}\\n{\"model\":\"llama3.2:1b\",\"created_at\":\"2024-11-14T06:02:00.302528177Z\",\"response\":\",\",\"done\":false}\\n{\"model\":\"llama3.2:1b\",\"created_at\":\"2024-11-14T06:02:00.308007451Z\",\"response\":\" weights\",\"done\":false}\\n{\"model\":\"llama3.2:1b\",\"created_at\":\"2024-11-14T06:02:00.313409975Z\",\"response\":\",\",\"done\":false}\\n{\"model\":\"llama3.2:1b\",\"created_at\":\"2024-11-14T06:02:00.318787791Z\",\"response\":\" temperatures\",\"done\":false}\\n{\"model\":\"llama3.2:1b\",\"created_at\":\"2024-11-14T06:02:00.324758782Z\",\"response\":\",\",\"done\":false}\\n{\"model\":\"llama3.2:1b\",\"created_at\":\"2024-11-14T06:02:00.330279381Z\",\"response\":\" or\",\"done\":false}\\n{\"model\":\"llama3.2:1b\",\"created_at\":\"2024-11-14T06:02:00.335655403Z\",\"response\":\" colors\",\"done\":false}\\n{\"model\":\"llama3.2:1b\",\"created_at\":\"2024-11-14T06:02:00.341056486Z\",\"response\":\" that\",\"done\":false}\\n{\"model\":\"llama3.2:1b\",\"created_at\":\"2024-11-14T06:02:00.346411865Z\",\"response\":\" have\",\"done\":false}\\n{\"model\":\"llama3.2:1b\",\"created_at\":\"2024-11-14T06:02:00.351841265Z\",\"response\":\" multiple\",\"done\":false}\\n{\"model\":\"llama3.2:1b\",\"created_at\":\"2024-11-14T06:02:00.357709077Z\",\"response\":\" possible\",\"done\":false}\\n{\"model\":\"llama3.2:1b\",\"created_at\":\"2024-11-14T06:02:00.363192475Z\",\"response\":\" outcomes\",\"done\":false}\\n{\"model\":\"llama3.2:1b\",\"created_at\":\"2024-11-14T06:02:00.368616016Z\",\"response\":\" due\",\"done\":false}\\n{\"model\":\"llama3.2:1b\",\"created_at\":\"2024-11-14T06:02:00.374063831Z\",\"response\":\" to\",\"done\":false}\\n{\"model\":\"llama3.2:1b\",\"created_at\":\"2024-11-14T06:02:00.379527584Z\",\"response\":\" natural\",\"done\":false}\\n{\"model\":\"llama3.2:1b\",\"created_at\":\"2024-11-14T06:02:00.384957363Z\",\"response\":\" variability\",\"done\":false}\\n{\"model\":\"llama3.2:1b\",\"created_at\":\"2024-11-14T06:02:00.390775883Z\",\"response\":\" or\",\"done\":false}\\n{\"model\":\"llama3.2:1b\",\"created_at\":\"2024-11-14T06:02:00.396213761Z\",\"response\":\" randomness\",\"done\":false}\\n{\"model\":\"llama3.2:1b\",\"created_at\":\"2024-11-14T06:02:00.401607855Z\",\"response\":\".\\\\n\\\\n\",\"done\":false}\\n{\"model\":\"llama3.2:1b\",\"created_at\":\"2024-11-14T06:02:00.407056494Z\",\"response\":\"For\",\"done\":false}\\n{\"model\":\"llama3.2:1b\",\"created_at\":\"2024-11-14T06:02:00.412433425Z\",\"response\":\" example\",\"done\":false}\\n{\"model\":\"llama3.2:1b\",\"created_at\":\"2024-11-14T06:02:00.417811191Z\",\"response\":\",\",\"done\":false}\\n{\"model\":\"llama3.2:1b\",\"created_at\":\"2024-11-14T06:02:00.42386079Z\",\"response\":\" if\",\"done\":false}\\n{\"model\":\"llama3.2:1b\",\"created_at\":\"2024-11-14T06:02:00.429320085Z\",\"response\":\" you\",\"done\":false}\\n{\"model\":\"llama3.2:1b\",\"created_at\":\"2024-11-14T06:02:00.434782249Z\",\"response\":\" flip\",\"done\":false}\\n{\"model\":\"llama3.2:1b\",\"created_at\":\"2024-11-14T06:02:00.440281615Z\",\"response\":\" a\",\"done\":false}\\n{\"model\":\"llama3.2:1b\",\"created_at\":\"2024-11-14T06:02:00.445710451Z\",\"response\":\" coin\",\"done\":false}\\n{\"model\":\"llama3.2:1b\",\"created_at\":\"2024-11-14T06:02:00.451073406Z\",\"response\":\",\",\"done\":false}\\n{\"model\":\"llama3.2:1b\",\"created_at\":\"2024-11-14T06:02:00.4566909Z\",\"response\":\" the\",\"done\":false}\\n{\"model\":\"llama3.2:1b\",\"created_at\":\"2024-11-14T06:02:00.462076275Z\",\"response\":\" outcome\",\"done\":false}\\n{\"model\":\"llama3.2:1b\",\"created_at\":\"2024-11-14T06:02:00.46752016Z\",\"response\":\" \\\\\"\",\"done\":false}\\n{\"model\":\"llama3.2:1b\",\"created_at\":\"2024-11-14T06:02:00.472946109Z\",\"response\":\"heads\",\"done\":false}\\n{\"model\":\"llama3.2:1b\",\"created_at\":\"2024-11-14T06:02:00.478436145Z\",\"response\":\"\\\\\"\",\"done\":false}\\n{\"model\":\"llama3.2:1b\",\"created_at\":\"2024-11-14T06:02:00.483873172Z\",\"response\":\" or\",\"done\":false}\\n{\"model\":\"llama3.2:1b\",\"created_at\":\"2024-11-14T06:02:00.490002895Z\",\"response\":\" \\\\\"\",\"done\":false}\\n{\"model\":\"llama3.2:1b\",\"created_at\":\"2024-11-14T06:02:00.495519456Z\",\"response\":\"tails\",\"done\":false}\\n{\"model\":\"llama3.2:1b\",\"created_at\":\"2024-11-14T06:02:00.500993117Z\",\"response\":\"\\\\\"\",\"done\":false}\\n{\"model\":\"llama3.2:1b\",\"created_at\":\"2024-11-14T06:02:00.506494619Z\",\"response\":\" is\",\"done\":false}\\n{\"model\":\"llama3.2:1b\",\"created_at\":\"2024-11-14T06:02:00.51190136Z\",\"response\":\" not\",\"done\":false}\\n{\"model\":\"llama3.2:1b\",\"created_at\":\"2024-11-14T06:02:00.51768873Z\",\"response\":\" determined\",\"done\":false}\\n{\"model\":\"llama3.2:1b\",\"created_at\":\"2024-11-14T06:02:00.523250301Z\",\"response\":\" by\",\"done\":false}\\n{\"model\":\"llama3.2:1b\",\"created_at\":\"2024-11-14T06:02:00.528668585Z\",\"response\":\" any\",\"done\":false}\\n{\"model\":\"llama3.2:1b\",\"created_at\":\"2024-11-14T06:02:00.534113211Z\",\"response\":\" inherent\",\"done\":false}\\n{\"model\":\"llama3.2:1b\",\"created_at\":\"2024-11-14T06:02:00.539610957Z\",\"response\":\" property\",\"done\":false}\\n{\"model\":\"llama3.2:1b\",\"created_at\":\"2024-11-14T06:02:00.545031098Z\",\"response\":\" of\",\"done\":false}\\n{\"model\":\"llama3.2:1b\",\"created_at\":\"2024-11-14T06:02:00.550466631Z\",\"response\":\" the\",\"done\":false}\\n{\"model\":\"llama3.2:1b\",\"created_at\":\"2024-11-14T06:02:00.556349271Z\",\"response\":\" coin\",\"done\":false}\\n{\"model\":\"llama3.2:1b\",\"created_at\":\"2024-11-14T06:02:00.561786453Z\",\"response\":\" itself\",\"done\":false}\\n{\"model\":\"llama3.2:1b\",\"created_at\":\"2024-11-14T06:02:00.567204043Z\",\"response\":\",\",\"done\":false}\\n{\"model\":\"llama3.2:1b\",\"created_at\":\"2024-11-14T06:02:00.572640606Z\",\"response\":\" but\",\"done\":false}\\n{\"model\":\"llama3.2:1b\",\"created_at\":\"2024-11-14T06:02:00.578086904Z\",\"response\":\" rather\",\"done\":false}\\n{\"model\":\"llama3.2:1b\",\"created_at\":\"2024-11-14T06:02:00.58353326Z\",\"response\":\" by\",\"done\":false}\\n{\"model\":\"llama3.2:1b\",\"created_at\":\"2024-11-14T06:02:00.589591354Z\",\"response\":\" chance\",\"done\":false}\\n{\"model\":\"llama3.2:1b\",\"created_at\":\"2024-11-14T06:02:00.595039207Z\",\"response\":\".\",\"done\":false}\\n{\"model\":\"llama3.2:1b\",\"created_at\":\"2024-11-14T06:02:00.600560771Z\",\"response\":\" Similarly\",\"done\":false}\\n{\"model\":\"llama3.2:1b\",\"created_at\":\"2024-11-14T06:02:00.606006881Z\",\"response\":\",\",\"done\":false}\\n{\"model\":\"llama3.2:1b\",\"created_at\":\"2024-11-14T06:02:00.611361208Z\",\"response\":\" if\",\"done\":false}\\n{\"model\":\"llama3.2:1b\",\"created_at\":\"2024-11-14T06:02:00.616784665Z\",\"response\":\" you\",\"done\":false}\\n{\"model\":\"llama3.2:1b\",\"created_at\":\"2024-11-14T06:02:00.622615387Z\",\"response\":\" roll\",\"done\":false}\\n{\"model\":\"llama3.2:1b\",\"created_at\":\"2024-11-14T06:02:00.628084722Z\",\"response\":\" a\",\"done\":false}\\n{\"model\":\"llama3.2:1b\",\"created_at\":\"2024-11-14T06:02:00.633562723Z\",\"response\":\" die\",\"done\":false}\\n{\"model\":\"llama3.2:1b\",\"created_at\":\"2024-11-14T06:02:00.639030124Z\",\"response\":\",\",\"done\":false}\\n{\"model\":\"llama3.2:1b\",\"created_at\":\"2024-11-14T06:02:00.64440598Z\",\"response\":\" each\",\"done\":false}\\n{\"model\":\"llama3.2:1b\",\"created_at\":\"2024-11-14T06:02:00.649871752Z\",\"response\":\" side\",\"done\":false}\\n{\"model\":\"llama3.2:1b\",\"created_at\":\"2024-11-14T06:02:00.655862301Z\",\"response\":\" of\",\"done\":false}\\n{\"model\":\"llama3.2:1b\",\"created_at\":\"2024-11-14T06:02:00.661344513Z\",\"response\":\" the\",\"done\":false}\\n{\"model\":\"llama3.2:1b\",\"created_at\":\"2024-11-14T06:02:00.666851582Z\",\"response\":\" die\",\"done\":false}\\n{\"model\":\"llama3.2:1b\",\"created_at\":\"2024-11-14T06:02:00.672363062Z\",\"response\":\" has\",\"done\":false}\\n{\"model\":\"llama3.2:1b\",\"created_at\":\"2024-11-14T06:02:00.677793173Z\",\"response\":\" an\",\"done\":false}\\n{\"model\":\"llama3.2:1b\",\"created_at\":\"2024-11-14T06:02:00.68326194Z\",\"response\":\" equal\",\"done\":false}\\n{\"model\":\"llama3.2:1b\",\"created_at\":\"2024-11-14T06:02:00.689308647Z\",\"response\":\" probability\",\"done\":false}\\n{\"model\":\"llama3.2:1b\",\"created_at\":\"2024-11-14T06:02:00.694829943Z\",\"response\":\" of\",\"done\":false}\\n{\"model\":\"llama3.2:1b\",\"created_at\":\"2024-11-14T06:02:00.700324196Z\",\"response\":\" landing\",\"done\":false}\\n{\"model\":\"llama3.2:1b\",\"created_at\":\"2024-11-14T06:02:00.705766985Z\",\"response\":\" facing\",\"done\":false}\\n{\"model\":\"llama3.2:1b\",\"created_at\":\"2024-11-14T06:02:00.711190892Z\",\"response\":\" up\",\"done\":false}\\n{\"model\":\"llama3.2:1b\",\"created_at\":\"2024-11-14T06:02:00.716690481Z\",\"response\":\",\",\"done\":false}\\n{\"model\":\"llama3.2:1b\",\"created_at\":\"2024-11-14T06:02:00.722721502Z\",\"response\":\" and\",\"done\":false}\\n{\"model\":\"llama3.2:1b\",\"created_at\":\"2024-11-14T06:02:00.728326013Z\",\"response\":\" the\",\"done\":false}\\n{\"model\":\"llama3.2:1b\",\"created_at\":\"2024-11-14T06:02:00.733946766Z\",\"response\":\" result\",\"done\":false}\\n{\"model\":\"llama3.2:1b\",\"created_at\":\"2024-11-14T06:02:00.739435916Z\",\"response\":\" depends\",\"done\":false}\\n{\"model\":\"llama3.2:1b\",\"created_at\":\"2024-11-14T06:02:00.744887407Z\",\"response\":\" on\",\"done\":false}\\n{\"model\":\"llama3.2:1b\",\"created_at\":\"2024-11-14T06:02:00.751107278Z\",\"response\":\" the\",\"done\":false}\\n{\"model\":\"llama3.2:1b\",\"created_at\":\"2024-11-14T06:02:00.75675456Z\",\"response\":\" roll\",\"done\":false}\\n{\"model\":\"llama3.2:1b\",\"created_at\":\"2024-11-14T06:02:00.762242942Z\",\"response\":\".\\\\n\\\\n\",\"done\":false}\\n{\"model\":\"llama3.2:1b\",\"created_at\":\"2024-11-14T06:02:00.767732971Z\",\"response\":\"Random\",\"done\":false}\\n{\"model\":\"llama3.2:1b\",\"created_at\":\"2024-11-14T06:02:00.773229572Z\",\"response\":\" variables\",\"done\":false}\\n{\"model\":\"llama3.2:1b\",\"created_at\":\"2024-11-14T06:02:00.778604606Z\",\"response\":\" are\",\"done\":false}\\n{\"model\":\"llama3.2:1b\",\"created_at\":\"2024-11-14T06:02:00.784029777Z\",\"response\":\" typically\",\"done\":false}\\n{\"model\":\"llama3.2:1b\",\"created_at\":\"2024-11-14T06:02:00.790156631Z\",\"response\":\" den\",\"done\":false}\\n{\"model\":\"llama3.2:1b\",\"created_at\":\"2024-11-14T06:02:00.795643426Z\",\"response\":\"oted\",\"done\":false}\\n{\"model\":\"llama3.2:1b\",\"created_at\":\"2024-11-14T06:02:00.801115383Z\",\"response\":\" as\",\"done\":false}\\n{\"model\":\"llama3.2:1b\",\"created_at\":\"2024-11-14T06:02:00.806663848Z\",\"response\":\" X\",\"done\":false}\\n{\"model\":\"llama3.2:1b\",\"created_at\":\"2024-11-14T06:02:00.812056542Z\",\"response\":\" (\",\"done\":false}\\n{\"model\":\"llama3.2:1b\",\"created_at\":\"2024-11-14T06:02:00.818348728Z\",\"response\":\"for\",\"done\":false}\\n{\"model\":\"llama3.2:1b\",\"created_at\":\"2024-11-14T06:02:00.824064026Z\",\"response\":\" example\",\"done\":false}\\n{\"model\":\"llama3.2:1b\",\"created_at\":\"2024-11-14T06:02:00.829625596Z\",\"response\":\",\",\"done\":false}\\n{\"model\":\"llama3.2:1b\",\"created_at\":\"2024-11-14T06:02:00.835166195Z\",\"response\":\" height\",\"done\":false}\\n{\"model\":\"llama3.2:1b\",\"created_at\":\"2024-11-14T06:02:00.840641683Z\",\"response\":\" in\",\"done\":false}\\n{\"model\":\"llama3.2:1b\",\"created_at\":\"2024-11-14T06:02:00.846014625Z\",\"response\":\" meters\",\"done\":false}\\n{\"model\":\"llama3.2:1b\",\"created_at\":\"2024-11-14T06:02:00.852116479Z\",\"response\":\")\",\"done\":false}\\n{\"model\":\"llama3.2:1b\",\"created_at\":\"2024-11-14T06:02:00.857594726Z\",\"response\":\" or\",\"done\":false}\\n{\"model\":\"llama3.2:1b\",\"created_at\":\"2024-11-14T06:02:00.863068703Z\",\"response\":\" Y\",\"done\":false}\\n{\"model\":\"llama3.2:1b\",\"created_at\":\"2024-11-14T06:02:00.868475728Z\",\"response\":\" (\",\"done\":false}\\n{\"model\":\"llama3.2:1b\",\"created_at\":\"2024-11-14T06:02:00.873930892Z\",\"response\":\"for\",\"done\":false}\\n{\"model\":\"llama3.2:1b\",\"created_at\":\"2024-11-14T06:02:00.879335176Z\",\"response\":\" example\",\"done\":false}\\n{\"model\":\"llama3.2:1b\",\"created_at\":\"2024-11-14T06:02:00.885429548Z\",\"response\":\",\",\"done\":false}\\n{\"model\":\"llama3.2:1b\",\"created_at\":\"2024-11-14T06:02:00.890951282Z\",\"response\":\" weight\",\"done\":false}\\n{\"model\":\"llama3.2:1b\",\"created_at\":\"2024-11-14T06:02:00.896466302Z\",\"response\":\" in\",\"done\":false}\\n{\"model\":\"llama3.2:1b\",\"created_at\":\"2024-11-14T06:02:00.901861158Z\",\"response\":\" kilograms\",\"done\":false}\\n{\"model\":\"llama3.2:1b\",\"created_at\":\"2024-11-14T06:02:00.907307762Z\",\"response\":\").\",\"done\":false}\\n{\"model\":\"llama3.2:1b\",\"created_at\":\"2024-11-14T06:02:00.912712747Z\",\"response\":\" The\",\"done\":false}\\n{\"model\":\"llama3.2:1b\",\"created_at\":\"2024-11-14T06:02:00.918749422Z\",\"response\":\" set\",\"done\":false}\\n{\"model\":\"llama3.2:1b\",\"created_at\":\"2024-11-14T06:02:00.924391278Z\",\"response\":\" of\",\"done\":false}\\n{\"model\":\"llama3.2:1b\",\"created_at\":\"2024-11-14T06:02:00.930016808Z\",\"response\":\" possible\",\"done\":false}\\n{\"model\":\"llama3.2:1b\",\"created_at\":\"2024-11-14T06:02:00.935555278Z\",\"response\":\" values\",\"done\":false}\\n{\"model\":\"llama3.2:1b\",\"created_at\":\"2024-11-14T06:02:00.941027227Z\",\"response\":\" for\",\"done\":false}\\n{\"model\":\"llama3.2:1b\",\"created_at\":\"2024-11-14T06:02:00.946410127Z\",\"response\":\" the\",\"done\":false}\\n{\"model\":\"llama3.2:1b\",\"created_at\":\"2024-11-14T06:02:00.952612366Z\",\"response\":\" random\",\"done\":false}\\n{\"model\":\"llama3.2:1b\",\"created_at\":\"2024-11-14T06:02:00.958319222Z\",\"response\":\" variable\",\"done\":false}\\n{\"model\":\"llama3.2:1b\",\"created_at\":\"2024-11-14T06:02:00.963832679Z\",\"response\":\" is\",\"done\":false}\\n{\"model\":\"llama3.2:1b\",\"created_at\":\"2024-11-14T06:02:00.969292415Z\",\"response\":\" called\",\"done\":false}\\n{\"model\":\"llama3.2:1b\",\"created_at\":\"2024-11-14T06:02:00.974802689Z\",\"response\":\" its\",\"done\":false}\\n{\"model\":\"llama3.2:1b\",\"created_at\":\"2024-11-14T06:02:00.980291585Z\",\"response\":\" range\",\"done\":false}\\n{\"model\":\"llama3.2:1b\",\"created_at\":\"2024-11-14T06:02:00.986413482Z\",\"response\":\" or\",\"done\":false}\\n{\"model\":\"llama3.2:1b\",\"created_at\":\"2024-11-14T06:02:00.99194573Z\",\"response\":\" domain\",\"done\":false}\\n{\"model\":\"llama3.2:1b\",\"created_at\":\"2024-11-14T06:02:00.997417167Z\",\"response\":\".\",\"done\":false}\\n{\"model\":\"llama3.2:1b\",\"created_at\":\"2024-11-14T06:02:01.002860775Z\",\"response\":\"\",\"done\":true,\"done_reason\":\"stop\",\"context\":[128006,9125,128007,271,38766,1303,33025,2696,25,6790,220,2366,18,271,128009,128006,882,128007,271,3923,596,279,7419,315,264,4288,3977,30,128009,128006,78191,128007,271,32,4288,3977,374,264,3977,430,649,1935,389,2204,2819,477,20124,3196,389,3738,4787,477,4455,13,1102,374,264,37072,7434,1511,304,19463,10334,323,13443,311,7664,264,12472,430,706,264,6140,315,6484,304,810,1109,832,1614,11,323,1202,15632,14117,389,279,32659,315,459,1567,382,644,1023,4339,11,264,4288,3977,374,264,3977,6832,3284,2612,2819,527,11075,555,6140,4455,477,20124,11,323,433,4250,387,19698,449,44743,13,10836,7482,3629,21736,33776,1093,36394,11,14661,11,20472,11,477,8146,430,617,5361,3284,20124,4245,311,5933,54709,477,87790,382,2520,3187,11,422,499,18791,264,16652,11,279,15632,330,36910,1,477,330,41060,1,374,539,11075,555,904,38088,3424,315,279,16652,5196,11,719,4856,555,6140,13,35339,11,422,499,6638,264,2815,11,1855,3185,315,279,2815,706,459,6273,19463,315,20948,13176,709,11,323,279,1121,14117,389,279,6638,382,14326,7482,527,11383,3453,9437,439,1630,320,2000,3187,11,2673,304,20645,8,477,816,320,2000,3187,11,4785,304,85402,570,578,743,315,3284,2819,369,279,4288,3977,374,2663,1202,2134,477,8106,13],\"total_duration\":1293904382,\"load_duration\":10530648,\"prompt_eval_count\":34,\"prompt_eval_duration\":8329000,\"eval_count\":223,\"eval_duration\":1233181000}\\n'"
      ]
     },
     "execution_count": 28,
     "metadata": {},
     "output_type": "execute_result"
    }
   ],
   "source": [
    "res.content"
   ]
  },
  {
   "cell_type": "code",
   "execution_count": 37,
   "metadata": {},
   "outputs": [],
   "source": [
    "path = \"http://127.0.0.1:11434/api_tags\"\n",
    "res2 = requests.get(path)"
   ]
  },
  {
   "cell_type": "code",
   "execution_count": 38,
   "metadata": {},
   "outputs": [
    {
     "name": "stderr",
     "output_type": "stream",
     "text": [
      "3204.50s - pydevd: Sending message related to process being replaced timed-out after 5 seconds\n"
     ]
    },
    {
     "name": "stdout",
     "output_type": "stream",
     "text": [
      "Defaulting to user installation because normal site-packages is not writeable\n",
      "Collecting ollama\n",
      "  Downloading ollama-0.3.3-py3-none-any.whl (10 kB)\n",
      "Collecting httpx<0.28.0,>=0.27.0\n",
      "  Downloading httpx-0.27.2-py3-none-any.whl (76 kB)\n",
      "\u001b[2K     \u001b[90m━━━━━━━━━━━━━━━━━━━━━━━━━━━━━━━━━━━━━━━━\u001b[0m \u001b[32m76.4/76.4 KB\u001b[0m \u001b[31m2.1 MB/s\u001b[0m eta \u001b[36m0:00:00\u001b[0m\n",
      "\u001b[?25hCollecting sniffio\n",
      "  Downloading sniffio-1.3.1-py3-none-any.whl (10 kB)\n",
      "Requirement already satisfied: idna in /usr/lib/python3/dist-packages (from httpx<0.28.0,>=0.27.0->ollama) (3.3)\n",
      "Collecting anyio\n",
      "  Downloading anyio-4.6.2.post1-py3-none-any.whl (90 kB)\n",
      "\u001b[2K     \u001b[90m━━━━━━━━━━━━━━━━━━━━━━━━━━━━━━━━━━━━━━━━\u001b[0m \u001b[32m90.4/90.4 KB\u001b[0m \u001b[31m6.2 MB/s\u001b[0m eta \u001b[36m0:00:00\u001b[0m\n",
      "\u001b[?25hRequirement already satisfied: certifi in /usr/lib/python3/dist-packages (from httpx<0.28.0,>=0.27.0->ollama) (2020.6.20)\n",
      "Collecting httpcore==1.*\n",
      "  Downloading httpcore-1.0.6-py3-none-any.whl (78 kB)\n",
      "\u001b[2K     \u001b[90m━━━━━━━━━━━━━━━━━━━━━━━━━━━━━━━━━━━━━━━━\u001b[0m \u001b[32m78.0/78.0 KB\u001b[0m \u001b[31m6.3 MB/s\u001b[0m eta \u001b[36m0:00:00\u001b[0m\n",
      "\u001b[?25hCollecting h11<0.15,>=0.13\n",
      "  Downloading h11-0.14.0-py3-none-any.whl (58 kB)\n",
      "\u001b[2K     \u001b[90m━━━━━━━━━━━━━━━━━━━━━━━━━━━━━━━━━━━━━━━━\u001b[0m \u001b[32m58.3/58.3 KB\u001b[0m \u001b[31m5.8 MB/s\u001b[0m eta \u001b[36m0:00:00\u001b[0m\n",
      "\u001b[?25hRequirement already satisfied: exceptiongroup>=1.0.2 in /home/abrehamtadesse/.local/lib/python3.10/site-packages (from anyio->httpx<0.28.0,>=0.27.0->ollama) (1.2.1)\n",
      "Requirement already satisfied: typing-extensions>=4.1 in /home/abrehamtadesse/.local/lib/python3.10/site-packages (from anyio->httpx<0.28.0,>=0.27.0->ollama) (4.9.0)\n",
      "Installing collected packages: sniffio, h11, httpcore, anyio, httpx, ollama\n",
      "Successfully installed anyio-4.6.2.post1 h11-0.14.0 httpcore-1.0.6 httpx-0.27.2 ollama-0.3.3 sniffio-1.3.1\n"
     ]
    }
   ],
   "source": [
    "!pip install ollama"
   ]
  },
  {
   "cell_type": "code",
   "execution_count": 39,
   "metadata": {},
   "outputs": [],
   "source": [
    "from ollama import Client\n",
    "client = Client(host='http://oceanus.cs.unlv.edu:11434')\n",
    "response = client.chat(model=\"llama3.2:1b\", messages=[{'role':'user', 'content': 'What is the definition of a random variable?',},])\n"
   ]
  },
  {
   "cell_type": "code",
   "execution_count": 40,
   "metadata": {},
   "outputs": [
    {
     "name": "stdout",
     "output_type": "stream",
     "text": [
      "{'model': 'llama3.2:1b', 'created_at': '2024-11-14T06:29:13.229238548Z', 'message': {'role': 'assistant', 'content': \"A random variable is a value that can take on different outcomes or values, depending on certain conditions or events. In other words, it's a quantity whose possible values are determined by chance or probability. Random variables are often used in probability theory and statistics to model and analyze phenomena that are uncertain or random in nature.\\n\\nIn probability theory, a random variable is typically denoted as X and has an associated probability distribution P(X), which describes the likelihood of each value of X occurring. The probability distribution can be represented graphically as a distribution function, which shows the probability of X taking on values less than or equal to a given point.\\n\\nA key characteristic of a random variable is that it must satisfy certain properties, such as:\\n\\n1. Each outcome (or value) has an associated probability.\\n2. The sum of all probabilities for a particular outcome must be 1 (or 100%).\\n\\nRandom variables can take on values in a continuous or discrete range, and they can be classified into various types based on their underlying distribution.\\n\\nFor example, the height of a person, temperature at a given time, or the amount of money earned by an individual are all examples of random variables.\"}, 'done_reason': 'stop', 'done': True, 'total_duration': 2399204284, 'load_duration': 1428216079, 'prompt_eval_count': 34, 'prompt_eval_duration': 14388000, 'eval_count': 237, 'eval_duration': 954573000}\n"
     ]
    }
   ],
   "source": [
    "print(response)"
   ]
  },
  {
   "cell_type": "code",
   "execution_count": null,
   "metadata": {},
   "outputs": [],
   "source": [
    "import requests\n",
    "\n",
    "path = \"http://oceanus.cs.unlv.edu:11434/api/generate\"\n",
    "\n",
    "params = {\n",
    "    \"model\": \"llama3.2:1b\",\n",
    "    \"prompt\": \"What's the definition of a random variable?\",\n",
    "    # \"stream\": \"false\",\n",
    "    # \"format\": \"json\"\n",
    "}\n",
    "\n",
    "res = requests.post(path, json=params)"
   ]
  },
  {
   "cell_type": "code",
   "execution_count": 52,
   "metadata": {},
   "outputs": [
    {
     "data": {
      "text/plain": [
       "b'{\"error\":\"json: cannot unmarshal string into Go struct field GenerateRequest.stream of type bool\"}'"
      ]
     },
     "execution_count": 52,
     "metadata": {},
     "output_type": "execute_result"
    }
   ],
   "source": [
    "res.content"
   ]
  }
 ],
 "metadata": {
  "kernelspec": {
   "display_name": "Python 3",
   "language": "python",
   "name": "python3"
  },
  "language_info": {
   "codemirror_mode": {
    "name": "ipython",
    "version": 3
   },
   "file_extension": ".py",
   "mimetype": "text/x-python",
   "name": "python",
   "nbconvert_exporter": "python",
   "pygments_lexer": "ipython3",
   "version": "3.10.12"
  }
 },
 "nbformat": 4,
 "nbformat_minor": 2
}
