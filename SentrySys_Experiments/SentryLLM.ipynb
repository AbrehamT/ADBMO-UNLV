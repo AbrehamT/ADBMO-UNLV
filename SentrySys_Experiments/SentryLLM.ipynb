{
 "cells": [
  {
   "cell_type": "code",
   "execution_count": 9,
   "metadata": {},
   "outputs": [],
   "source": [
    "class CustomError(Exception):\n",
    "    def __init__(self, *args):\n",
    "        super().__init__(*args)"
   ]
  },
  {
   "cell_type": "code",
   "execution_count": 1,
   "metadata": {},
   "outputs": [
    {
     "name": "stderr",
     "output_type": "stream",
     "text": [
      "/home/tadesa1/ADBMO-UNLV/venv/lib/python3.12/site-packages/tqdm/auto.py:21: TqdmWarning: IProgress not found. Please update jupyter and ipywidgets. See https://ipywidgets.readthedocs.io/en/stable/user_install.html\n",
      "  from .autonotebook import tqdm as notebook_tqdm\n"
     ]
    }
   ],
   "source": [
    "import torch\n",
    "from transformers import AutoTokenizer\n",
    "from dotenv import load_dotenv\n",
    "import os\n",
    "\n",
    "class LLMInterface:\n",
    "    def __init__(\n",
    "            self,\n",
    "            model_name: str,\n",
    "            device: str = \"cuda:0\" if torch.cuda.is_available() else \"cpu\"):\n",
    "        \n",
    "        self.device = device\n",
    "        self.model_name = model_name\n",
    "        self.tokenizer = AutoTokenizer.from_pretrained(self.model_name, use_auth_token = os.getenv('HF_ACCESS_TOKEN'))\n",
    "\n",
    "    def preprocesser_inference(\n",
    "            self,\n",
    "            input: list[str],\n",
    "            pad: bool,\n",
    "            truncate: bool,\n",
    "            max_length: int,\n",
    "            return_tensor: str = \"pt\"\n",
    "    ):\n",
    "        tokenized_text = []\n",
    "        for text in input:\n",
    "            tk_txt = self.tokenizer(text, max_length=max_length,padding=pad, truncation=truncate, return_tensors=return_tensor).to(self.device)\n",
    "            tokenized_text.append(tk_txt)\n",
    "        return tokenized_text\n",
    "    \n",
    "class classifierInterface(LLMInterface):\n",
    "    def __init__(self, model_name: str, id2label: dict, label2id: dict, num_labels=2, device = \"cuda:0\" if torch.cuda.is_available() else \"cpu\"):\n",
    "        super().__init__(model_name, device)\n",
    "        load_dotenv()\n",
    "        from transformers import AutoModelForSequenceClassification\n",
    "        self.model = AutoModelForSequenceClassification.from_pretrained(\n",
    "            self.model_name,\n",
    "            torch_dtype=torch.float16 if self.device==\"cuda:0\" else torch.float32,\n",
    "            num_labels=num_labels,\n",
    "            id2label=id2label,\n",
    "            label2id=label2id,\n",
    "            token = os.getenv('HF_ACCESS_TOKEN')\n",
    "        ).to(self.device)\n",
    "\n",
    "    def inference_classify(\n",
    "            self,\n",
    "            inputs: list[str],\n",
    "            pad: bool,\n",
    "            truncate: bool,\n",
    "            max_length: int,\n",
    "            return_tensor: str = \"pt\"\n",
    "    ):\n",
    "        classes = []\n",
    "        inputs = self.preprocesser_inference(inputs, pad, truncate, max_length, return_tensor)\n",
    "        for input in inputs:\n",
    "            with torch.no_grad():\n",
    "                input = {key: value.to(self.device) for key, value in input.items()}\n",
    "                logits = self.model(**input).logits\n",
    "            predicted_class = logits.argmax().item()\n",
    "            classes.append(self.model.config.id2label[predicted_class])\n",
    "        return classes\n",
    "    \n",
    "class extractorInterface(LLMInterface):\n",
    "    def __init__(self, model_name: str, device: str = 'cuda:0' if torch.cuda.is_available() else \"cpu\"):\n",
    "        super().__init__(model_name, device)\n",
    "        from transformers import AutoModelForTokenClassification\n",
    "        self.model = AutoModelForTokenClassification.from_pretrained(\n",
    "            self.model_name,\n",
    "            torch_dtype=torch.float16 if self.device==\"cuda\" else torch.float32,\n",
    "            token = os.getenv('HF_ACCESS_TOKEN')\n",
    "        )\n",
    "    \n",
    "    def inference_extract(\n",
    "            self,\n",
    "            input: str,\n",
    "            pad: bool,\n",
    "            truncate: bool,\n",
    "            max_length: bool,\n",
    "            return_tensor: str = \"pt\"\n",
    "    ):\n",
    "        input = self.preprocesser_inference(input, pad, truncate, max_length, return_tensor)\n",
    "        with torch.no_grad():\n",
    "            logits = self.model(**input).logits\n",
    "        \n",
    "        # TODO: RETURN THE APPROPRIATE VALUE, NOT LOGITS, FROM HERE"
   ]
  },
  {
   "cell_type": "code",
   "execution_count": 2,
   "metadata": {},
   "outputs": [
    {
     "name": "stderr",
     "output_type": "stream",
     "text": [
      "Some weights of LlamaForSequenceClassification were not initialized from the model checkpoint at meta-llama/Llama-3.2-1B and are newly initialized: ['score.weight']\n",
      "You should probably TRAIN this model on a down-stream task to be able to use it for predictions and inference.\n"
     ]
    }
   ],
   "source": [
    "if __name__ == \"__main__\":\n",
    "    \n",
    "    model_names = [\"meta-llama/Llama-3.1-8B\", \"meta-llama/Llama-3.1-40B\",\"meta-llama/Llama-3.2-1B\"]\n",
    "    \n",
    "    id2label = {\n",
    "        0: 'IRRELEVANT',\n",
    "        1: 'RELEVANT'        \n",
    "    }\n",
    "\n",
    "    label2id = {\n",
    "        'IRRELEVANT': 0,\n",
    "        'RELEVANT': 1        \n",
    "    }\n",
    "    classifier = classifierInterface(model_name=model_names[2], id2label=id2label, label2id=label2id)"
   ]
  },
  {
   "cell_type": "markdown",
   "metadata": {},
   "source": [
    "### Preparing Data for training and testing"
   ]
  },
  {
   "cell_type": "code",
   "execution_count": 37,
   "metadata": {},
   "outputs": [],
   "source": [
    "import json\n",
    "from datasets import Dataset\n",
    "\n",
    "with open('/home/tadesa1/ADBMO-UNLV/SentrySys_Experiments/classification_results_openai.json', 'r') as f:\n",
    "    classified_results = json.load(f)\n",
    "\n",
    "del classified_results['---']\n",
    "\n",
    "def data_generator():\n",
    "    for obj in classified_results:\n",
    "        try:\n",
    "            yield {\"pmid\": obj, \"true_class\": classified_results[obj]['class'], \"title\":classified_results[obj]['title'], \"abstract\": classified_results[obj]['summary']['Abstract'], \"method\": classified_results[obj]['summary']['Method'], \"predicted_class\": 0 if classified_results[obj]['openai_response'] == 'No' else 1}\n",
    "        except KeyError:\n",
    "            yield {\"pmid\": obj, \"true_class\": 0 if classified_results[obj]['openai_response'] == 'No' else 1, \"title\":classified_results[obj]['title'], \"abstract\": classified_results[obj]['summary']['Abstract'], \"method\": classified_results[obj]['summary']['Method'], \"predicted_class\": 0 if classified_results[obj]['openai_response'] == 'No' else 1}\n",
    "\n",
    "data = Dataset.from_generator(data_generator)\n",
    "false_class_data = data.filter(lambda e: e['true_class'] == 0)\n",
    "true_class_data = data.filter(lambda e: e['true_class'] == 1)"
   ]
  },
  {
   "cell_type": "markdown",
   "metadata": {},
   "source": [
    "### Attempting a classification "
   ]
  },
  {
   "cell_type": "code",
   "execution_count": 38,
   "metadata": {},
   "outputs": [],
   "source": [
    "test_data = []\n",
    "for paper in data:\n",
    "    test_data.append([paper['title']+paper['abstract']+paper['method']])"
   ]
  },
  {
   "cell_type": "code",
   "execution_count": 56,
   "metadata": {},
   "outputs": [],
   "source": [
    "result = []\n",
    "for paper in data:\n",
    "    test_data = [paper['title']+paper['abstract']+paper['method']]\n",
    "    result.append(classifier.inference_classify(inputs=test_data, pad = False, truncate = False, max_length=4096))\n",
    "    # print(f\"{result} : {paper['predicted_class']}\")"
   ]
  },
  {
   "cell_type": "code",
   "execution_count": 61,
   "metadata": {},
   "outputs": [
    {
     "name": "stdout",
     "output_type": "stream",
     "text": [
      "IRRELEVANT\n"
     ]
    }
   ],
   "source": [
    "print(result[0][0])"
   ]
  },
  {
   "cell_type": "code",
   "execution_count": 67,
   "metadata": {},
   "outputs": [
    {
     "name": "stdout",
     "output_type": "stream",
     "text": [
      "<class 'list'>\n",
      "<class 'list'>\n"
     ]
    },
    {
     "data": {
      "image/png": "[encoded data removed]",
      "text/plain": [
       "<Figure size 600x500 with 2 Axes>"
      ]
     },
     "metadata": {},
     "output_type": "display_data"
    },
    {
     "name": "stdout",
     "output_type": "stream",
     "text": [
      "              precision    recall  f1-score   support\n",
      "\n",
      "           0       0.93      0.85      0.88       265\n",
      "           1       0.09      0.18      0.12        22\n",
      "\n",
      "    accuracy                           0.79       287\n",
      "   macro avg       0.51      0.51      0.50       287\n",
      "weighted avg       0.86      0.79      0.83       287\n",
      "\n"
     ]
    }
   ],
   "source": [
    "import matplotlib.pyplot as plt\n",
    "import seaborn as sns\n",
    "import numpy as np\n",
    "from sklearn.metrics import confusion_matrix, classification_report\n",
    "\n",
    "predicted_labels = []\n",
    "true_labels = []\n",
    "\n",
    "true_labels = [example['true_class'] for example in data]\n",
    "# predicted_labels = [print(example[0]) for example in result]\n",
    "predicted_labels = [1 if res[0] == 'RELEVANT' else 0 for res in result]\n",
    "\n",
    "\n",
    "print(type(true_labels))\n",
    "print(type(predicted_labels))\n",
    "cm = confusion_matrix(true_labels, predicted_labels)\n",
    "\n",
    "plt.figure(figsize=(6,5))\n",
    "sns.heatmap(cm, annot=True, fmt='d', cmap='Blues', xticklabels=np.unique(true_labels), yticklabels=np.unique(true_labels))\n",
    "plt.xlabel(\"Predicted\")\n",
    "plt.ylabel(\"Actual\")\n",
    "plt.title(\"Confusion Matrix\")\n",
    "plt.show()\n",
    " \n",
    "# Print classification report\n",
    "print(classification_report(true_labels, predicted_labels))\n"
   ]
  },
  {
   "cell_type": "code",
   "execution_count": null,
   "metadata": {},
   "outputs": [],
   "source": []
  },
  {
   "cell_type": "markdown",
   "metadata": {},
   "source": [
    "# Question\n",
    "\n",
    "* Will performance improve in all aspects if we perform unsupervised fine tuning on the models?\n",
    "\n",
    "The goal is to have a general purpose ADBMO model that we can recycle for different purposes. A chatbot with reasoning capabilities, text extraction and classification, and even document searching abilities.\n",
    "- Let's start off by training adapters that we can plugin to existing models. Let's measure the performance of that for our downstream tasks like text extraction and classification and then see if further fine-tuning is necessary."
   ]
  }
 ],
 "metadata": {
  "kernelspec": {
   "display_name": "venv",
   "language": "python",
   "name": "python3"
  },
  "language_info": {
   "codemirror_mode": {
    "name": "ipython",
    "version": 3
   },
   "file_extension": ".py",
   "mimetype": "text/x-python",
   "name": "python",
   "nbconvert_exporter": "python",
   "pygments_lexer": "ipython3",
   "version": "3.12.3"
  }
 },
 "nbformat": 4,
 "nbformat_minor": 2
}
