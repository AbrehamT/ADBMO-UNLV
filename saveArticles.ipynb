{
 "cells": [
  {
   "cell_type": "code",
   "execution_count": null,
   "metadata": {},
   "outputs": [],
   "source": [
    "import requests\n",
    "import json\n",
    "import pandas\n",
    "\n",
    "uid_list = set()\n",
    "with open('uid_list2.txt', 'r') as f:\n",
    "    for line in f:\n",
    "        line = line.strip()\n",
    "        if len(line) > 8 and line[0] == 1:\n",
    "            uid_list.add(line[:8])\n",
    "            uid_list.add(line[8:])\n",
    "        uid_list.add(line)"
   ]
  },
  {
   "cell_type": "code",
   "execution_count": null,
   "metadata": {},
   "outputs": [],
   "source": [
    "full_text = {}"
   ]
  },
  {
   "cell_type": "code",
   "execution_count": null,
   "metadata": {},
   "outputs": [],
   "source": [
    "def fetch_full_text(article_id):\n",
    "    \n",
    "    from collections import defaultdict\n",
    "    summary = defaultdict(str)\n",
    "\n",
    "    # summary = {\n",
    "    #     'Title': \"\",\n",
    "    #     'Abstract': [],\n",
    "    #     'Method': []\n",
    "    # }\n",
    "    \n",
    "    response = requests.get(f\"https://www.ncbi.nlm.nih.gov/research/bionlp/RESTful/pmcoa.cgi/BioC_json/PMC{article_id}/unicode\")\n",
    "\n",
    "    if response.text == f'No record can be found for the input: pmc{id}':\n",
    "        print(f\"No record found for article {id}.\")\n",
    "\n",
    "    else:\n",
    "        try:\n",
    "            data = json.loads(response.text[1:-1])\n",
    "            summary['Title'] = data['documents'][0]['passages'][0]['text']\n",
    "            for text in data['documents'][0]['passages'][:]:\n",
    "                if text['infons']['section_type'] == 'INTRO':\n",
    "                    summary['Intro']=(text['text'])                    \n",
    "                if text['infons']['section_type'] == 'ABSTRACT':\n",
    "                    summary['Abstract']=(text['text'])\n",
    "                if text['infons']['section_type'] == 'METHODS':\n",
    "                    summary['Method']=(text['text'])\n",
    "                if text['infons']['section_type'] == 'RESULTS':\n",
    "                    summary['Results']=(text['text'])\n",
    "                if text['infons']['section_type'] == 'CONCL':\n",
    "                    summary['Conclusion']=(text['text'])\n",
    "                if text['infons']['section_type'] == 'REF':\n",
    "                    summary['References']=(text['text'])\n",
    "        except json.JSONDecodeError as e:\n",
    "            print(\"Json error for string: \", response.text)\n",
    "            summary['Title'] = \"ARTICLE NOT FOUND\"\n",
    "    \n",
    "    return summary"
   ]
  },
  {
   "cell_type": "code",
   "execution_count": null,
   "metadata": {},
   "outputs": [],
   "source": [
    "from collections import defaultdict\n",
    "import time\n",
    "\n",
    "for i, uid in enumerate(uid_list):\n",
    "    full_text[uid] = fetch_full_text(uid)\n",
    "    time.sleep(1)\n",
    "    print(i)\n"
   ]
  },
  {
   "cell_type": "code",
   "execution_count": 88,
   "metadata": {},
   "outputs": [],
   "source": [
    "with open('full_text.json', 'a') as f:\n",
    "    json.dump(full_text, f, indent=4, ensure_ascii=False)"
   ]
  }
 ],
 "metadata": {
  "kernelspec": {
   "display_name": "adbmo_venv",
   "language": "python",
   "name": "python3"
  },
  "language_info": {
   "codemirror_mode": {
    "name": "ipython",
    "version": 3
   },
   "file_extension": ".py",
   "mimetype": "text/x-python",
   "name": "python",
   "nbconvert_exporter": "python",
   "pygments_lexer": "ipython3",
   "version": "3.10.12"
  }
 },
 "nbformat": 4,
 "nbformat_minor": 2
}
