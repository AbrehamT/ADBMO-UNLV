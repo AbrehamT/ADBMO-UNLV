{
 "cells": [
  {
   "cell_type": "code",
   "execution_count": 22,
   "metadata": {},
   "outputs": [],
   "source": [
    "import requests\n",
    "import json\n",
    "import pandas\n",
    "\n",
    "uid_list = set()\n",
    "with open('uid_list2.txt', 'r') as f:\n",
    "    for line in f:\n",
    "        line = line.strip()\n",
    "        if len(line) > 8 and line[0] == 1:\n",
    "            uid_list.add(line[:8])\n",
    "            uid_list.add(line[8:])\n",
    "        uid_list.add(line)\n",
    "\n"
   ]
  },
  {
   "cell_type": "code",
   "execution_count": null,
   "metadata": {},
   "outputs": [],
   "source": [
    "full_text = {}"
   ]
  },
  {
   "cell_type": "code",
   "execution_count": 72,
   "metadata": {},
   "outputs": [],
   "source": [
    "def fetch_full_text(article_id):\n",
    "    \n",
    "    from collections import defaultdict\n",
    "    summary = defaultdict(str)\n",
    "\n",
    "    # summary = {\n",
    "    #     'Title': \"\",\n",
    "    #     'Abstract': [],\n",
    "    #     'Method': []\n",
    "    # }\n",
    "    response = requests.get(f\"https://www.ncbi.nlm.nih.gov/research/bionlp/RESTful/pmcoa.cgi/BioC_json/PMC{article_id}/unicode\")\n",
    "\n",
    "    if response.text == f'No record can be found for the input: pmc{id}':\n",
    "        print(f\"No record found for article {id}.\")\n",
    "\n",
    "    else:\n",
    "        try:\n",
    "            data = json.loads(response.text[1:-1])\n",
    "            summary['Title'] = data['documents'][0]['passages'][0]['text']\n",
    "            for text in data['documents'][0]['passages'][:]:\n",
    "                if text['infons']['section_type'] == 'INTRO':\n",
    "                    summary['Intro']=(text['text'])                    \n",
    "                if text['infons']['section_type'] == 'ABSTRACT':\n",
    "                    summary['Abstract']=(text['text'])\n",
    "                if text['infons']['section_type'] == 'METHODS':\n",
    "                    summary['Method']=(text['text'])\n",
    "                if text['infons']['section_type'] == 'RESULTS':\n",
    "                    summary['Results']=(text['text'])\n",
    "                if text['infons']['section_type'] == 'CONCL':\n",
    "                    summary['Conclusion']=(text['text'])\n",
    "                if text['infons']['section_type'] == 'REF':\n",
    "                    summary['References']=(text['text'])\n",
    "        except json.JSONDecodeError as e:\n",
    "            print(\"Json error for string: \", response.text)\n",
    "            summary['Title'] = \"ARTICLE NOT FOUND\"\n",
    "    \n",
    "    return summary"
   ]
  },
  {
   "cell_type": "code",
   "execution_count": 1,
   "metadata": {},
   "outputs": [
    {
     "ename": "NameError",
     "evalue": "name 'uid_list' is not defined",
     "output_type": "error",
     "traceback": [
      "\u001b[0;31m---------------------------------------------------------------------------\u001b[0m",
      "\u001b[0;31mNameError\u001b[0m                                 Traceback (most recent call last)",
      "Cell \u001b[0;32mIn[1], line 4\u001b[0m\n\u001b[1;32m      1\u001b[0m \u001b[38;5;28;01mfrom\u001b[39;00m \u001b[38;5;21;01mcollections\u001b[39;00m \u001b[38;5;28;01mimport\u001b[39;00m defaultdict\n\u001b[1;32m      2\u001b[0m \u001b[38;5;28;01mimport\u001b[39;00m \u001b[38;5;21;01mtime\u001b[39;00m\n\u001b[0;32m----> 4\u001b[0m \u001b[38;5;28;01mfor\u001b[39;00m i, uid \u001b[38;5;129;01min\u001b[39;00m \u001b[38;5;28menumerate\u001b[39m(\u001b[43muid_list\u001b[49m):\n\u001b[1;32m      5\u001b[0m     \u001b[38;5;28;01mif\u001b[39;00m uid \u001b[38;5;129;01mnot\u001b[39;00m \u001b[38;5;129;01min\u001b[39;00m full_text:\n\u001b[1;32m      6\u001b[0m         full_text[uid] \u001b[38;5;241m=\u001b[39m fetch_full_text(uid)\n",
      "\u001b[0;31mNameError\u001b[0m: name 'uid_list' is not defined"
     ]
    }
   ],
   "source": [
    "from collections import defaultdict\n",
    "import time\n",
    "\n",
    "for i, uid in enumerate(uid_list):\n",
    "    if uid not in full_text:\n",
    "        full_text[uid] = fetch_full_text(uid)\n",
    "        time.sleep(1)\n",
    "        print(i)\n"
   ]
  },
  {
   "cell_type": "code",
   "execution_count": 88,
   "metadata": {},
   "outputs": [],
   "source": [
    "with open('full_text.json', 'a') as f:\n",
    "    json.dump(full_text, f, indent=4, ensure_ascii=False)"
   ]
  }
 ],
 "metadata": {
  "kernelspec": {
   "display_name": "adbmo_venv",
   "language": "python",
   "name": "python3"
  },
  "language_info": {
   "codemirror_mode": {
    "name": "ipython",
    "version": 3
   },
   "file_extension": ".py",
   "mimetype": "text/x-python",
   "name": "python",
   "nbconvert_exporter": "python",
   "pygments_lexer": "ipython3",
   "version": "3.10.12"
  }
 },
 "nbformat": 4,
 "nbformat_minor": 2
}
