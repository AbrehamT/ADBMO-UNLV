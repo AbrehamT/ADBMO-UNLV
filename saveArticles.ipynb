{
 "cells": [
  {
   "cell_type": "code",
   "execution_count": 22,
   "metadata": {},
   "outputs": [],
   "source": [
    "import requests\n",
    "import json\n",
    "import pandas\n",
    "\n",
    "uid_list = set()\n",
    "with open('uid_list2.txt', 'r') as f:\n",
    "    for line in f:\n",
    "        line = line.strip()\n",
    "        if len(line) > 8 and line[0] == 1:\n",
    "            uid_list.add(line[:8])\n",
    "            uid_list.add(line[8:])\n",
    "        uid_list.add(line)\n",
    "\n"
   ]
  },
  {
   "cell_type": "code",
   "execution_count": null,
   "metadata": {},
   "outputs": [],
   "source": []
  },
  {
   "cell_type": "code",
   "execution_count": 68,
   "metadata": {},
   "outputs": [],
   "source": [
    "def fetch_full_text(article_id):\n",
    "    \n",
    "    from collections import defaultdict\n",
    "    summary = defaultdict(str)\n",
    "\n",
    "    # summary = {\n",
    "    #     'Title': \"\",\n",
    "    #     'Abstract': [],\n",
    "    #     'Method': []\n",
    "    # }\n",
    "    response = requests.get(f\"https://www.ncbi.nlm.nih.gov/research/bionlp/RESTful/pmcoa.cgi/BioC_json/PMC{article_id}/unicode\")\n",
    "\n",
    "    if response.text == f'No record can be found for the input: pmc{id}':\n",
    "        print(f\"No record found for article {id}.\")\n",
    "\n",
    "    else:\n",
    "        try:\n",
    "            data = json.loads(response.text[1:-1])\n",
    "            summary['Title'] = data['documents'][0]['passages'][0]['text']\n",
    "            for text in data['documents'][0]['passages'][:]:\n",
    "                if text['infons']['section_type'] == 'INTRO':\n",
    "                    summary['Intro']=(text['text'])                    \n",
    "                if text['infons']['section_type'] == 'ABSTRACT':\n",
    "                    summary['Abstract']=(text['text'])\n",
    "                if text['infons']['section_type'] == 'METHODS':\n",
    "                    summary['Method']=(text['text'])\n",
    "                if text['infons']['section_type'] == 'RESULTS':\n",
    "                    summary['Results']=(text['text'])\n",
    "                if text['infons']['section_type'] == 'CONCL':\n",
    "                    summary['Conclusion']=(text['text'])\n",
    "                if text['infons']['section_type'] == 'REF':\n",
    "                    summary['References']=(text['text'])\n",
    "        except json.JSONDecodeError as e:\n",
    "            print(\"Json error for string: \", response.text)\n",
    "            summary['Title'] = \"ARTICLE NOT FOUND\"\n",
    "    \n",
    "    return summary"
   ]
  },
  {
   "cell_type": "code",
   "execution_count": null,
   "metadata": {},
   "outputs": [],
   "source": [
    "from collections import defaultdict\n",
    "\n",
    "full_text = {}\n",
    "\n",
    "for i, uid in enumerate(uid_list):\n",
    "    full_text[uid] = fetch_full_text(uid)\n",
    "    print(i)\n"
   ]
  },
  {
   "cell_type": "code",
   "execution_count": 71,
   "metadata": {},
   "outputs": [
    {
     "data": {
      "text/plain": [
       "{'10965088': defaultdict(str,\n",
       "             {'Title': 'A deeply supervised adaptable neural network for diagnosis and classification of Alzheimer’s severity using multitask feature extraction',\n",
       "              'Abstract': 'Alzheimer’s disease is the most prevalent form of dementia, which is a gradual condition that begins with mild memory loss and progresses to difficulties communicating and responding to the environment. Recent advancements in neuroimaging techniques have resulted in large-scale multimodal neuroimaging data, leading to an increased interest in using deep learning for the early diagnosis and automated classification of Alzheimer’s disease. This study uses machine learning (ML) methods to determine the severity level of Alzheimer’s disease using MRI images, where the dataset consists of four levels of severity. A hybrid of 12 feature extraction methods is used to diagnose Alzheimer’s disease severity, and six traditional machine learning methods are applied, including decision tree, K-nearest neighbor, linear discrimination analysis, Naïve Bayes, support vector machine, and ensemble learning methods. During training, optimization is performed to obtain the best solution for each classifier. Additionally, a CNN model is trained using a machine learning system algorithm to identify specific patterns. The accuracy of the Naïve Bayes, Support Vector Machines, K-nearest neighbor, Linear discrimination classifier, Decision tree, Ensembled learning, and presented CNN architecture are 67.5%, 72.3%, 74.5%, 65.6%, 62.4%, 73.8% and, 95.3%, respectively. Based on the results, the presented CNN approach outperforms other traditional machine learning methods to find Alzheimer severity.',\n",
       "              'Intro': 'Dogan et al. developed a model of primate brain patterns based on EEG signals for the detection of AD. Using a directed graph to extract features from the primate brain’s connectome, this method demonstrated high accuracy in identifying AD patients from healthy controls. In order to enhance the accuracy of AD detection, the model is able to generate a set of features from EEG signals. Using brain images, Kaplan et al. developed a feed-forward Local Phase Quantization Network (LPQNet) for AD detection. Based on feature generation and selection through multilevel processing, their model demonstrated remarkable classification accuracy across several datasets. LPQNet stands out for its combination of high accuracy and low computational complexity, which makes it a valuable tool for diagnosing Alzheimer’s disease. Kaplan et al. developed the ExHiF model for the detection of AD using CT and MR images. They combined exemplar histogram-based features with neighborhood component analysis to achieve 100% classification accuracy. In terms of medical image classification for AD, this model is innovative in its feature extraction process inspired by vision transformers. Table 1 provides a detailed comparison of related works that have leveraged ML to diagnose AD.',\n",
       "              'Method': 'The confusion matrix is a specific tool that accurately measures categorization performance. Learning a few definitions are required to understand the confusion matrix. But before we get into the theories, let’s look at a fundamental confusion matrix for binary or binomial classification with two classes (say, Y or N). The potential of a classifier to select all of the examples that must be chosen is referred to as sensitivity. A perfect classifier will determine all true Ys and exclude any true Ys. There will be no false negatives to express it in a different way. In the absence of a classifier, true Ys will be missed, resulting in false negatives. A classifier is defined as being accurate if it is able to select all instances that need to be picked and to reject all instances that need to be denied. Fig 2 illustrates the workflow and conceptual diagram in our proposed approach.',\n",
       "              'Results': 'To compare the presented CNN method with other machine learning approaches, the AUC values and accuracy of the methods are presented in Table 3. Based on the results, the accuracy and the AUC value for the presented CNN methods are higher than other machine learning classifiers. Moreover, the KNN method with 74.5% accuracy and 92% AUC is the second classification priority. Furthermore, the ensembled learning of Bag, Adaboost, and RUSBoost methods raises the accuracy to 73.8% and 93% AUC. To conclude. It can be seen that the presented CNN method has higher accuracy in diagnosing Alzheimer’s severity. Diagnosis of Alzheimer’s patients from normal people is simpler than finding the severity of the disease. This is because of the close similarity between each class image. Therefore, the traditional machine learning methods with many feature extraction methods could not reach higher accuracy. However, the presented CNN solved this problem with 95.3% and 100% testing and training accuracy.',\n",
       "              'Conclusion': 'The training procedure achieved 100% accuracy for the categorization of input images based on the findings of the proposed CNN technique. Nevertheless, out of 300 mild images in the test samples, 288 (96.0%) were properly diagnosed. As a result, CNN’s sensitivity for detecting mild AD is 96%. The proposed CNN technique correctly diagnosed mild AD with 100 sensitivity. Furthermore, normal images are identified in 95.3% of cases. Consequently, the network’s precision for mild, moderate, normal, and very mild class diagnosis is 93.2%, 100%, 92.6%, and 95.7%, respectively. The accuracy of our provided CNN architecture was 95.3%. According to the findings, the accuracy and AUC value for the provided CNN techniques were greater than other ML classifiers. Furthermore, the KNN technique was ranked second in classification accuracy, with 74.5% accuracy and 92% AUC. Besides, combining the Bag, Adaboost, and RUSBoost algorithms improved accuracy to 73.8% and 93% AUC, respectively. To sum it up, the proposed CNN technique was more accurate in diagnosing Alzheimer’s severity.',\n",
       "              'References': '10.1371/journal.pone.0297996.r002'}),\n",
       " '11290214': defaultdict(str,\n",
       "             {'Title': 'Unspoken expectations and situational participation: a qualitative study exploring the instantiation of next of kin involvement within the trust model',\n",
       "              'Abstract': 'The online version contains supplementary material available at 10.1186/s12913-024-11338-9.',\n",
       "              'Intro': 'To advance existing knowledge, this study explores how the next of kin and the frontline workers perceive and perform involvement in decision making regarding tailoring the services for the service users of home-based healthcare services organised after the trust model. This study aims to address the research gap concerning how frontline workers address the needs of both service users and next of kin in service allocation, collaborating, involving, or using next of kin’s expertise to deliver flexible and individually tailored services, as intended in the trust model. Additionally, it seeks to understand the experiences of involvement and collaboration with next of kin within interdisciplinary organisational models, like the trust model in home-based healthcare.',\n",
       "              'Method': 'The author group consists of occupational therapists and nurses with different clinical backgrounds. Furthermore, together they possess extensive experience in research. The first author has 19 years of experience in home-based healthcare services and is therefore well acquainted with the research field.',\n",
       "              'Results': 'Another example highlighted was the service’s need to obtain information from other services, such as hospitals and GPs. The next of kin felt required to bring this information between the services. A next of kin said:',\n",
       "              'Conclusion': 'Springer Nature remains neutral with regard to jurisdictional claims in published maps and institutional affiliations.',\n",
       "              'References': 'The tension between person centred and task focused care in an acute surgical setting: a critical ethnography'}),\n",
       " '8253314': defaultdict(str,\n",
       "             {'Title': \"Early Detection of Alzheimer's Disease Based on Clinical Trials, Three-Dimensional Imaging Data, and Personal Information Using Autoencoders\",\n",
       "              'Abstract': 'Experimental results revealed that the proposed method significantly outperformed most of the stateoftheart methods.',\n",
       "              'Intro': 'The demographic data of patients are summarized in Table 1. The MRI and positron emission tomography (PET) data were downloaded from the ADNI. A detailed description of PET protocols and acquisition can be found at www.adni-info.org. The CSF biomarker, the personal information, and the MMSE scores were downloaded from the ADNI website since July 2015.',\n",
       "              'Method': 'Evaluation using 10-fold cross-validation.',\n",
       "              'Results': 'From Table 2 and Figures 5-8, the ROCs, boxplots, and AUC values increased after recovering missing data using autoencoder. Using the rebuilt missing data method, the boxplots compressed inward more than that of the averaging method for estimating the missing data. Such compression depicts higher stability in the classification model for rebuilt missing data method. Moreover, the accuracy of NC versus MCI classification with autoencoder increased after recovering missing data. Yet, exploiting the average of missing data obtained drastically better results in terms of distinguishing between MCI and AD patients. Line 6 of the table is bold that shows best accuracy and other performance measures in distinguishing MCI patients from NCs. As in Figure 8, after reducing the dimensionality of the input vector for classification, the Boxplots significantly compressed compared to that of the averaged missing data, which depicts less variance (i.e., higher stability) in the classification. Using PPV for missing data is more promising than other methods, and showed better prognosis capability with the proposed method.',\n",
       "              'Conclusion': 'Email: arr302002@yahoo.com',\n",
       "              'References': '“Mini-mental state”. A practical method for grading the cognitive state of patients for the clinician'}),\n",
       " '11240574': defaultdict(str,\n",
       "             {'Title': 'Cardiotoxicity in Acute Myeloid Leukemia in Adults: A Scoping Study',\n",
       "              'Abstract': 'Introduction: According to the National Cancer Institute of the NIH, acute myeloid leukemia (AML) is a rapidly growing cancer with a large quantity of myeloblasts. AML is most often observed in adults over the age of 35, accounting for 1% of all cancer types. In 2023, the number of new cases being reported was estimated to reach around 20,380 in total and the rate of mortality in the same year was 1.9%, or 11,310 cases, in the US. Purpose: This scoping study aims to extensively assess and explore the degree of cardiotoxicity in patients with AML that can be caused due to pharmaceutical treatments prescribed by hematologists. This is achieved by performing extensive searches of different scientific databases including PubMed, Scopus, and ScienceDirect. Results: A variety of options are available that are summarized in tables included herein, with each having their advantages and risks of adverse effects, among these being cardiotoxicity. Important medications found to play a significant role include gemtuzumab ozogamicin, venetoclax, and vyxeos. Conclusions: It is understandable that being familiar with all the treatment options available and every potential adverse effect is impossible. However, hematologists and, in general, physicians must try to be updated with the most recent information released to improve the quality of life of their patients and minimize the risk of additional complications.',\n",
       "              'Intro': 'The clinical manifestation of AML varies widely from symptoms of anemia, such as fatigue, weakness, shortness of breath during normal activities, lightheadedness, headaches, and pale complexion; thrombocytopenia, for instance, skin bruising, excessive and uncontrolled bleeding, gingiva bleeding, and, for females, frequent menstrual bleeding; leukopenia, and mostly neutropenia, which can lead to frequent infections; and leukostasis, which is a life-threatening complication caused by high concentrations of circulating leukemic cells that cause severe tissue hypoxia.',\n",
       "              'Method': 'This scoping study aims to assess and explore the possibility of cardiotoxicity that is caused by pharmaceutical treatments prescribed by hematologists in patients with AML. This was achieved by performing an extensive search of different scientific databases including PubMed, Scopus, ScienceDirect, the American Cancer Society. The most crucial information found is summarized in Table 2 and is further explained in the main text. This scoping study was not registered as a systematic review.',\n",
       "              'Results': 'The pharmaceutical regimens currently used in the treatment of AML in adults are summarized in Table 2.',\n",
       "              'Conclusion': 'Disclaimer/Publisher’s Note: The statements, opinions and data contained in all publications are solely those of the individual author(s) and contributor(s) and not of MDPI and/or the editor(s). MDPI and/or the editor(s) disclaim responsibility for any injury to people or property resulting from any ideas, methods, instructions or products referred to in the content.',\n",
       "              'References': 'Sinusal bradycardia after receiving intermediate or high dose cytarabine: Four cases from a single institution'}),\n",
       " '10643740': defaultdict(str, {'Title': 'ARTICLE NOT FOUND'}),\n",
       " '10851118': defaultdict(str,\n",
       "             {'Title': 'Culturally Adapting the World Health Organization Digital Intervention for Family Caregivers of People With Dementia (iSupport): Community-Based Participatory Approach',\n",
       "              'Abstract': 'Our study provides evidence on how to culturally adapt a digital program for informal caregivers of people living with dementia. Our results suggest that adopting a community-based participatory approach and collecting lived experiences from the final users and stakeholders is crucial to meet local needs and to inform the further development, testing, and implementation of digital interventions in a specific cultural context.',\n",
       "              'Intro': 'This study aims to describe in detail the cultural adaptation process of iSupport in Switzerland. We specifically focused on the participatory strategies we used to design a culturally adapted, Swiss version of iSupport that informed the development of the desktop version, mobile app, and printed manual. Our purpose is to inform the implementation of not only iSupport but also other complex health interventions, specifically in the context of the cultural adaptation process.',\n",
       "              'Method': 'Subsequently, all specific and applicable comments were charted using the iSupport WHO adaptation spreadsheet (Multimedia Appendix 3). All proposals of change were then supported by a rationale and by the source of the proposal: the research team (preliminary adaptation during phase 1), the members of the CAB (results from the linguistic and cultural adaptation during phase 2), and FG participants (data collected during phase 3). Attached to the adaptation spreadsheets, we also sent a list of general suggestions and feedback. The material was sent for revision to the authors of the WHO iSupport program in October 2021, and the results of their final fidelity check were received in January 2022. Subsequently, the local research team implemented all approved changes and uploaded the new adapted contents on the beta version of the iSupport Swiss web platform.',\n",
       "              'Results': 'For me, the biggest utility is in connecting people...there should be people behind the app.',\n",
       "              'References': 'WHO launches new platform for knowledge exchange on dementia'})}"
      ]
     },
     "execution_count": 71,
     "metadata": {},
     "output_type": "execute_result"
    }
   ],
   "source": [
    "full_text"
   ]
  }
 ],
 "metadata": {
  "kernelspec": {
   "display_name": "adbmo_venv",
   "language": "python",
   "name": "python3"
  },
  "language_info": {
   "codemirror_mode": {
    "name": "ipython",
    "version": 3
   },
   "file_extension": ".py",
   "mimetype": "text/x-python",
   "name": "python",
   "nbconvert_exporter": "python",
   "pygments_lexer": "ipython3",
   "version": "3.10.12"
  }
 },
 "nbformat": 4,
 "nbformat_minor": 2
}
