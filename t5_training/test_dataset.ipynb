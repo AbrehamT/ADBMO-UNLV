{
 "cells": [
  {
   "cell_type": "code",
   "execution_count": 2,
   "id": "c2a9b032",
   "metadata": {},
   "outputs": [],
   "source": [
    "import os\n",
    "from torch.utils.data import DataLoader, DistributedSampler\n",
    "from transformers import T5ForConditionalGeneration, AdamW, T5Tokenizer\n",
    "from peft import LoraConfig, get_peft_model\n",
    "\n",
    "model = T5ForConditionalGeneration.from_pretrained(\n",
    "    \"google/flan-t5-small\",\n",
    "    # torch_dtype=torch.float16,\n",
    "    token=os.getenv('HF_ACCESS_TOKEN')\n",
    ")\n",
    "\n",
    "# config = LoraConfig(\n",
    "#     task_type = \"SEQ_2_SEQ_LM\",\n",
    "#     target_modules=[\"q\", \"v\"],\n",
    "#     r=8,\n",
    "#     lora_alpha=32,\n",
    "#     lora_dropout=0.1\n",
    "# )\n",
    "    \n",
    "# model = get_peft_model(model, config)\n",
    "# model.print_trainable_parameters()\n",
    "\n",
    "# Initialize tokenizer\n",
    "tokenizer = T5Tokenizer.from_pretrained(\"google/flan-t5-small\")\n",
    "    "
   ]
  },
  {
   "cell_type": "code",
   "execution_count": 6,
   "id": "1cd5c85c",
   "metadata": {},
   "outputs": [],
   "source": [
    "from dataset_utils import T5Dataset\n",
    "import torch\n",
    "\n",
    "with open('/home/tadesa1/research/ADBMO-UNLV/t5_training/gene_species_tagged_articles.json', 'r') as f:\n",
    "    text = f.readlines()\n",
    "    text = [line for line in text if line.strip()]\n",
    "\n",
    "import json\n",
    "# Load JSON\n",
    "with open('/home/tadesa1/research/ADBMO-UNLV/t5_training/gene_species_tagged_articles.json', 'r') as f:\n",
    "    data = json.load(f)\n",
    "texts = []\n",
    "annotations = []\n",
    "# Flatten json structure\n",
    "for pmid, sections in data.items():\n",
    "    for section_type, content in sections.items():\n",
    "        section_text = \" \".join(content.get(\"text\", []))\n",
    "        section_annotations = []\n",
    "        for ann_group in content.get(\"annotation\", []):\n",
    "            for ann_id, ann in ann_group.items():\n",
    "             \n",
    "                try:\n",
    "                    start = int(ann[\"offset\"])\n",
    "                    end = start + int(ann[\"length\"])\n",
    "                    section_annotations.append((start, end))\n",
    "                except:\n",
    "                    continue\n",
    "        texts.append(section_text)\n",
    "        annotations.append(section_annotations)\n",
    "\n",
    "dataset = T5Dataset(\n",
    "    texts=texts,\n",
    "    tokenizer=tokenizer,\n",
    "    annotations=annotations  # Pass list of spans\n",
    ")\n",
    "# Clear CUDA cache\n",
    "torch.cuda.empty_cache()\n",
    "\n",
    "# Create collator\n",
    "# my_collator = CollatorWrapper(tokenizer)\n",
    "    "
   ]
  },
  {
   "cell_type": "code",
   "execution_count": 8,
   "id": "62581de6",
   "metadata": {},
   "outputs": [
    {
     "name": "stdout",
     "output_type": "stream",
     "text": [
      "================================================================================\n",
      "Original Text:\n",
      "Mild cognitive impairment prediction and cognitive score regression in the elderly using EEG topological data analysis and machine learning with awareness assessed in affective reminiscent paradigm\n",
      "Tokens:\n",
      "['Mild', 'cognitive', 'impairment', 'prediction', 'and', 'cognitive', 'score', 'regression', 'in', 'the', 'elderly', 'using', 'EEG', 'topological', 'data', 'analysis', 'and', 'machine', 'learning', 'with', 'awareness', 'assessed', 'in', 'affective', 'reminiscent', 'paradigm']\n",
      "Annotation Spans:\n",
      "[]\n",
      "Corrupted Input:\n",
      "Mild cognitive impairment prediction <extra_id_0> score <extra_id_1> the elderly using EEG topological data analysis and machine learning with awareness assessed in affective reminiscent paradigm <extra_id_2>\n",
      "Target (What T5 has to Generate):\n",
      "<extra_id_0> and cognitive <extra_id_1> regression in <extra_id_2>\n",
      "================================================================================\n"
     ]
    }
   ],
   "source": [
    "idx = 10  # Or any random index\n",
    "text = dataset.texts[idx]\n",
    "tokens = text.strip().split()\n",
    "annotation_spans = dataset.annotations[idx]\n",
    "\n",
    "corrupted_input, target = dataset.corrupt_text(tokens, annotation_spans)\n",
    "\n",
    "print(\"=\"*80)\n",
    "print(f\"Original Text:\\n{text}\")\n",
    "print(f\"Tokens:\\n{tokens}\")\n",
    "print(f\"Annotation Spans:\\n{annotation_spans}\")\n",
    "print(f\"Corrupted Input:\\n{corrupted_input}\")\n",
    "print(f\"Target (What T5 has to Generate):\\n{target}\")\n",
    "print(\"=\"*80)\n"
   ]
  }
 ],
 "metadata": {
  "kernelspec": {
   "display_name": "nlp_ml_env",
   "language": "python",
   "name": "python3"
  },
  "language_info": {
   "codemirror_mode": {
    "name": "ipython",
    "version": 3
   },
   "file_extension": ".py",
   "mimetype": "text/x-python",
   "name": "python",
   "nbconvert_exporter": "python",
   "pygments_lexer": "ipython3",
   "version": "3.9.21"
  }
 },
 "nbformat": 4,
 "nbformat_minor": 5
}
