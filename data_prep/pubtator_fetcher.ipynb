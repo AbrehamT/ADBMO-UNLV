{
 "cells": [
  {
   "cell_type": "markdown",
   "metadata": {},
   "source": [
    "### Implementing Search to get pmcids for biomarkers that mention it"
   ]
  },
  {
   "cell_type": "code",
   "execution_count": null,
   "metadata": {},
   "outputs": [],
   "source": [
    "import requests\n",
    "import pandas as pd\n",
    "\n",
    "base_url = \"https://www.ncbi.nlm.nih.gov/research/pubtator3-api/search\"\n",
    "\n",
    "df = pd.read_excel(\"/home/tadesa1/research/ADBMO-UNLV/data_prep/2025-02-13 Biomarker List (1).xlsx\")\n",
    "\n",
    "params: {\n",
    "\n",
    "}\n",
    "try:\n",
    "    response = requests.get(base_url, )\n"
   ]
  }
 ],
 "metadata": {
  "kernelspec": {
   "display_name": "nlp_ml_env",
   "language": "python",
   "name": "python3"
  },
  "language_info": {
   "name": "python",
   "version": "3.9.21"
  }
 },
 "nbformat": 4,
 "nbformat_minor": 2
}
